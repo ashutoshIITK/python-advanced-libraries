{
 "cells": [
  {
   "cell_type": "code",
   "execution_count": 54,
   "metadata": {},
   "outputs": [],
   "source": [
    "import os\n",
    "import time\n",
    "from PIL import Image, ImageFilter"
   ]
  },
  {
   "cell_type": "code",
   "execution_count": 55,
   "metadata": {},
   "outputs": [
    {
     "data": {
      "text/plain": [
       "['2994300.jpg',\n",
       " '.DS_Store',\n",
       " '2544246.jpg',\n",
       " '2838647.jpg',\n",
       " '2424391.jpg',\n",
       " '2611487.jpg']"
      ]
     },
     "execution_count": 55,
     "metadata": {},
     "output_type": "execute_result"
    }
   ],
   "source": [
    "files_list = os.listdir('media/')\n",
    "files_list"
   ]
  },
  {
   "cell_type": "code",
   "execution_count": 50,
   "metadata": {},
   "outputs": [],
   "source": [
    "images_list = [file for file in images_list if file.endswith('.jpg')]"
   ]
  },
  {
   "cell_type": "code",
   "execution_count": 62,
   "metadata": {},
   "outputs": [
    {
     "data": {
      "text/plain": [
       "['2994300.jpg', '2544246.jpg', '2838647.jpg', '2424391.jpg', '2611487.jpg']"
      ]
     },
     "execution_count": 62,
     "metadata": {},
     "output_type": "execute_result"
    }
   ],
   "source": [
    "images_list"
   ]
  },
  {
   "cell_type": "code",
   "execution_count": 57,
   "metadata": {},
   "outputs": [],
   "source": [
    "images = ['media/' + file for file in images_list]"
   ]
  },
  {
   "cell_type": "code",
   "execution_count": 63,
   "metadata": {},
   "outputs": [
    {
     "name": "stdout",
     "output_type": "stream",
     "text": [
      "['media/2994300.jpg', 'media/2544246.jpg', 'media/2838647.jpg', 'media/2424391.jpg', 'media/2611487.jpg']\n"
     ]
    }
   ],
   "source": [
    "print(images)"
   ]
  },
  {
   "cell_type": "code",
   "execution_count": 59,
   "metadata": {},
   "outputs": [
    {
     "name": "stdout",
     "output_type": "stream",
     "text": [
      "media/2994300.jpg was processed...\n",
      "media/2544246.jpg was processed...\n",
      "media/2838647.jpg was processed...\n",
      "media/2424391.jpg was processed...\n",
      "media/2611487.jpg was processed...\n",
      "Processed in 5.0 second (s)\n"
     ]
    }
   ],
   "source": [
    "start_time = time.perf_counter()\n",
    "\n",
    "image_size = (1200,1200)\n",
    "\n",
    "for image in images:    \n",
    "    img = Image.open(image)\n",
    "    img = img.filter(ImageFilter.GaussianBlur(15))\n",
    "    img.thumbnail(image_size)\n",
    "    img.save('media/Processed-{}'.format(image.split('/')[1]))\n",
    "    print(f'{image} was processed...')\n",
    "    \n",
    "finish_time = time.perf_counter()\n",
    "\n",
    "print(f'Processed in {round(finish_time - start_time, 2)} second (s)')    "
   ]
  },
  {
   "cell_type": "markdown",
   "metadata": {},
   "source": [
    "# Using multi-processing to speed up"
   ]
  },
  {
   "cell_type": "code",
   "execution_count": 67,
   "metadata": {},
   "outputs": [
    {
     "name": "stdout",
     "output_type": "stream",
     "text": [
      "media/2424391.jpg was processed...\n",
      "media/2544246.jpg was processed...\n",
      "media/2994300.jpg was processed...\n",
      "media/2838647.jpg was processed...\n",
      "media/2611487.jpg was processed...\n",
      "Processed in 3.04 second (s)\n"
     ]
    }
   ],
   "source": [
    "import concurrent.futures\n",
    "\n",
    "start_time = time.perf_counter()\n",
    "\n",
    "image_size = (1200,1200)\n",
    "\n",
    "def process_image(image):    \n",
    "    img = Image.open(image)\n",
    "    img = img.filter(ImageFilter.GaussianBlur(15))\n",
    "    img.thumbnail(image_size)\n",
    "    img.save('media/Processed-{}'.format(image.split('/')[1]))\n",
    "\n",
    "    print(f'{image} was processed...')\n",
    "\n",
    "with concurrent.futures.ProcessPoolExecutor() as executor:\n",
    "    executor.map(process_image, images)\n",
    "\n",
    "finish_time = time.perf_counter()\n",
    "\n",
    "print(f'Processed in {round(finish_time - start_time, 2)} second (s)')    "
   ]
  },
  {
   "cell_type": "code",
   "execution_count": null,
   "metadata": {},
   "outputs": [],
   "source": []
  }
 ],
 "metadata": {
  "kernelspec": {
   "display_name": "Python 3",
   "language": "python",
   "name": "python3"
  },
  "language_info": {
   "codemirror_mode": {
    "name": "ipython",
    "version": 3
   },
   "file_extension": ".py",
   "mimetype": "text/x-python",
   "name": "python",
   "nbconvert_exporter": "python",
   "pygments_lexer": "ipython3",
   "version": "3.7.3"
  }
 },
 "nbformat": 4,
 "nbformat_minor": 2
}
