{
 "cells": [
  {
   "cell_type": "markdown",
   "metadata": {},
   "source": [
    "Tasks could be either IO-bound or CPU bound <br>\n",
    "<b>IO-bound: Threading module </b> e.g. File System, Network operations, etc.<br>\n",
    "<b>CPU-bound: Multiprocessing module</b> e.g. Anything which uses CPU"
   ]
  },
  {
   "cell_type": "code",
   "execution_count": 1,
   "metadata": {},
   "outputs": [
    {
     "name": "stdout",
     "output_type": "stream",
     "text": [
      "The program will sleep for one second...\n",
      "Done sleeping...\n",
      "The program will sleep for one second...\n",
      "Done sleeping...\n",
      "Total time taken for running sleep function is 2.0103 seconds\n"
     ]
    }
   ],
   "source": [
    "import time\n",
    "\n",
    "start_time = time.perf_counter()\n",
    "\n",
    "# The sleep function does not do anything on CPU and is just kind of waiting around\n",
    "def sleep():\n",
    "    print('The program will sleep for one second...')\n",
    "    time.sleep(1)\n",
    "    print('Done sleeping...')\n",
    "# If we run the sleep function twice, it will take two seconds. For every function call, it will take one second\n",
    "sleep()\n",
    "sleep()\n",
    "\n",
    "finish_time = time.perf_counter()\n",
    "\n",
    "print(f'Total time taken for running sleep function is {round(finish_time - start_time, 4)} seconds')"
   ]
  },
  {
   "cell_type": "markdown",
   "metadata": {},
   "source": [
    "# Using multiprocessing to speed up process in parallel"
   ]
  },
  {
   "cell_type": "code",
   "execution_count": 7,
   "metadata": {},
   "outputs": [
    {
     "name": "stdout",
     "output_type": "stream",
     "text": [
      "The program will sleep for one second...\n",
      "The program will sleep for one second...\n",
      "Done sleeping...\n",
      "Done sleeping...\n",
      "Total time taken for running sleep function is 1.03 seconds\n"
     ]
    }
   ],
   "source": [
    "import multiprocessing\n",
    "import time\n",
    "\n",
    "start_time = time.perf_counter()\n",
    "\n",
    "def sleep():\n",
    "    print('The program will sleep for one second...')\n",
    "    time.sleep(1)\n",
    "    print('Done sleeping...')\n",
    "\n",
    "p1 = multiprocessing.Process(target=sleep)\n",
    "p2 = multiprocessing.Process(target=sleep)\n",
    "\n",
    "p1.start()\n",
    "p2.start()\n",
    "\n",
    "# We use join method to ensure that both of them finish together before running other codes below\n",
    "p1.join()\n",
    "p2.join()\n",
    "\n",
    "finish_time = time.perf_counter()\n",
    "\n",
    "print(f'Total time taken for running sleep function is {round(finish_time - start_time, 2)} seconds')"
   ]
  },
  {
   "cell_type": "code",
   "execution_count": 9,
   "metadata": {},
   "outputs": [
    {
     "name": "stdout",
     "output_type": "stream",
     "text": [
      "The program will sleep for one second...\n",
      "The program will sleep for one second...\n",
      "The program will sleep for one second...\n",
      "The program will sleep for one second...\n",
      "The program will sleep for one second...\n",
      "The program will sleep for one second...\n",
      "The program will sleep for one second...\n",
      "The program will sleep for one second...\n",
      "The program will sleep for one second...\n",
      "The program will sleep for one second...\n",
      "Done sleeping...\n",
      "Done sleeping...\n",
      "Done sleeping...\n",
      "Done sleeping...\n",
      "Done sleeping...\n",
      "Done sleeping...\n",
      "Done sleeping...\n",
      "Done sleeping...\n",
      "Done sleeping...\n",
      "Done sleeping...\n",
      "Total time taken for running sleep function is 1.59 seconds\n"
     ]
    }
   ],
   "source": [
    "import multiprocessing\n",
    "import time\n",
    "\n",
    "start_time = time.perf_counter()\n",
    "\n",
    "def sleep(seconds):\n",
    "    print('The program will sleep for one second...')\n",
    "    time.sleep(seconds)\n",
    "    print('Done sleeping...')\n",
    "\n",
    "processes_list = []\n",
    "for _ in range(10):\n",
    "    p = multiprocessing.Process(target=sleep, args= [1.5])\n",
    "    p.start()\n",
    "    processes_list.append(p)\n",
    "    \n",
    "for process in processes_list:\n",
    "    process.join()\n",
    "finish_time = time.perf_counter()\n",
    "\n",
    "print(f'Total time taken for running sleep function is {round(finish_time - start_time, 2)} seconds')"
   ]
  },
  {
   "cell_type": "markdown",
   "metadata": {},
   "source": [
    "# Using Concurrent Futures for multiprocessing"
   ]
  },
  {
   "cell_type": "code",
   "execution_count": 15,
   "metadata": {},
   "outputs": [
    {
     "name": "stdout",
     "output_type": "stream",
     "text": [
      "The program will sleep for 2 second...\n",
      "The program will sleep for 1 second...\n",
      "It took 1 second(s)\n",
      "It took 2 second(s)\n",
      "Total time taken for running sleep function is 2.04 seconds\n"
     ]
    }
   ],
   "source": [
    "import time\n",
    "import concurrent.futures\n",
    "\n",
    "start_time = time.perf_counter()\n",
    "\n",
    "def sleep(seconds):\n",
    "    print(f'The program will sleep for {seconds} second...')\n",
    "    time.sleep(seconds)    \n",
    "    return f'It took {seconds} second(s)'\n",
    "\n",
    "with concurrent.futures.ProcessPoolExecutor() as executor:\n",
    "    f1 = executor.submit(sleep, 1)\n",
    "    f2 = executor.submit(sleep, 2)\n",
    "    print(f1.result())\n",
    "    print(f2.result())\n",
    "\n",
    "finish_time = time.perf_counter()\n",
    "\n",
    "print(f'Total time taken for running sleep function is {round(finish_time - start_time, 2)} seconds')"
   ]
  },
  {
   "cell_type": "markdown",
   "metadata": {},
   "source": [
    "## Using List Comprehension for running several processes"
   ]
  },
  {
   "cell_type": "code",
   "execution_count": 20,
   "metadata": {},
   "outputs": [
    {
     "name": "stdout",
     "output_type": "stream",
     "text": [
      "The program will sleep for 1 second...\n",
      "The program will sleep for 1 second...\n",
      "The program will sleep for 1 second...\n",
      "The program will sleep for 1 second...\n",
      "The program will sleep for 1 second...\n",
      "The program will sleep for 1 second...\n",
      "The program will sleep for 1 second...\n",
      "The program will sleep for 1 second...\n",
      "It took 1 second(s)\n",
      "It took 1 second(s)\n",
      "It took 1 second(s)\n",
      "It took 1 second(s)\n",
      "The program will sleep for 1 second...\n",
      "The program will sleep for 1 second...\n",
      "It took 1 second(s)\n",
      "It took 1 second(s)\n",
      "It took 1 second(s)\n",
      "It took 1 second(s)\n",
      "It took 1 second(s)\n",
      "It took 1 second(s)\n",
      "Total time taken for running sleep function is 3.05 seconds\n"
     ]
    }
   ],
   "source": [
    "import time\n",
    "import concurrent.futures\n",
    "\n",
    "start_time = time.perf_counter()\n",
    "\n",
    "def sleep(seconds):\n",
    "    print(f'The program will sleep for {seconds} second...')\n",
    "    time.sleep(seconds)    \n",
    "    return f'It took {seconds} second(s)'\n",
    "\n",
    "with concurrent.futures.ProcessPoolExecutor() as executor:\n",
    "    results = [executor.submit(sleep, 1) for _ in range(10)]\n",
    "    \n",
    "    for f in concurrent.futures.as_completed(results):\n",
    "        print(f.result())\n",
    "\n",
    "finish_time = time.perf_counter()\n",
    "\n",
    "print(f'Total time taken for running sleep function is {round(finish_time - start_time, 2)} seconds')"
   ]
  },
  {
   "cell_type": "markdown",
   "metadata": {},
   "source": [
    "## Using a list with multi-processing Pool Executor"
   ]
  },
  {
   "cell_type": "code",
   "execution_count": 21,
   "metadata": {},
   "outputs": [
    {
     "name": "stdout",
     "output_type": "stream",
     "text": [
      "The program will sleep for 5 second...\n",
      "The program will sleep for 2 second...\n",
      "The program will sleep for 3 second...\n",
      "The program will sleep for 4 second...\n",
      "The program will sleep for 1 second...\n",
      "It took 2 second(s)\n",
      "It took 3 second(s)\n",
      "It took 1 second(s)\n",
      "It took 4 second(s)\n",
      "It took 5 second(s)\n",
      "Total time taken for running sleep function is 5.04 seconds\n"
     ]
    }
   ],
   "source": [
    "import time\n",
    "import concurrent.futures\n",
    "\n",
    "start_time = time.perf_counter()\n",
    "\n",
    "def sleep(seconds):\n",
    "    print(f'The program will sleep for {seconds} second...')\n",
    "    time.sleep(seconds)    \n",
    "    return f'It took {seconds} second(s)'\n",
    "\n",
    "with concurrent.futures.ProcessPoolExecutor() as executor:\n",
    "    seconds_list = [5, 4, 3, 2, 1]\n",
    "    results = [executor.submit(sleep, seconds) for seconds in seconds_list]\n",
    "    \n",
    "    for f in concurrent.futures.as_completed(results):\n",
    "        print(f.result())\n",
    "\n",
    "finish_time = time.perf_counter()\n",
    "\n",
    "print(f'Total time taken for running sleep function is {round(finish_time - start_time, 2)} seconds')"
   ]
  },
  {
   "cell_type": "code",
   "execution_count": 24,
   "metadata": {},
   "outputs": [
    {
     "name": "stdout",
     "output_type": "stream",
     "text": [
      "The program will sleep for 4 second...\n",
      "The program will sleep for 5 second...\n",
      "The program will sleep for 3 second...\n",
      "The program will sleep for 2 second...\n",
      "The program will sleep for 1 second...\n",
      "It took 5 second(s)\n",
      "It took 4 second(s)\n",
      "It took 3 second(s)\n",
      "It took 2 second(s)\n",
      "It took 1 second(s)\n",
      "Total time taken for running sleep function is 5.04 seconds\n"
     ]
    }
   ],
   "source": [
    "import time\n",
    "import concurrent.futures\n",
    "\n",
    "start_time = time.perf_counter()\n",
    "\n",
    "def sleep(seconds):\n",
    "    print(f'The program will sleep for {seconds} second...')\n",
    "    time.sleep(seconds)    \n",
    "    return f'It took {seconds} second(s)'\n",
    "\n",
    "with concurrent.futures.ProcessPoolExecutor() as executor:\n",
    "    seconds_list = [5, 4, 3, 2, 1]\n",
    "    results = executor.map(sleep, seconds_list)\n",
    "    \n",
    "    for result in results:\n",
    "        print(result) # Prints in the order they were started\n",
    "\n",
    "finish_time = time.perf_counter()\n",
    "\n",
    "print(f'Total time taken for running sleep function is {round(finish_time - start_time, 2)} seconds')"
   ]
  },
  {
   "cell_type": "markdown",
   "metadata": {},
   "source": [
    "I have followed the tutorial from Corey Schafer's Youtube Channel:\n",
    "Link to the tutorial video: \n",
    "https://www.youtube.com/watch?v=fKl2JW_qrso"
   ]
  }
 ],
 "metadata": {
  "kernelspec": {
   "display_name": "Python 3",
   "language": "python",
   "name": "python3"
  },
  "language_info": {
   "codemirror_mode": {
    "name": "ipython",
    "version": 3
   },
   "file_extension": ".py",
   "mimetype": "text/x-python",
   "name": "python",
   "nbconvert_exporter": "python",
   "pygments_lexer": "ipython3",
   "version": "3.7.3"
  }
 },
 "nbformat": 4,
 "nbformat_minor": 2
}
