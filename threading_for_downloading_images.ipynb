{
 "cells": [
  {
   "cell_type": "markdown",
   "metadata": {},
   "source": [
    "# Downloading image without using threading"
   ]
  },
  {
   "cell_type": "code",
   "execution_count": 1,
   "metadata": {},
   "outputs": [],
   "source": [
    "import requests\n",
    "import time"
   ]
  },
  {
   "cell_type": "code",
   "execution_count": 2,
   "metadata": {},
   "outputs": [],
   "source": [
    "# All images are royalty free here\n",
    "\n",
    "image_url_list = [\n",
    "    'https://www.pexels.com/photo/2611487/download/?search_query=&tracking_id=ix1wey1m9om',\n",
    "    'https://www.pexels.com/photo/2424391/download/?search_query=&tracking_id=ix1wey1m9om',\n",
    "    'https://www.pexels.com/photo/2544246/download/?search_query=&tracking_id=ix1wey1m9om',\n",
    "    'https://www.pexels.com/photo/2838647/download/?search_query=&tracking_id=ix1wey1m9om',\n",
    "    'https://www.pexels.com/photo/2994300/download/?search_query=&tracking_id=ix1wey1m9om'    \n",
    "]"
   ]
  },
  {
   "cell_type": "code",
   "execution_count": 3,
   "metadata": {},
   "outputs": [
    {
     "name": "stdout",
     "output_type": "stream",
     "text": [
      "2611487.jpg has been downloaded\n",
      "2424391.jpg has been downloaded\n",
      "2544246.jpg has been downloaded\n",
      "2838647.jpg has been downloaded\n",
      "2994300.jpg has been downloaded\n",
      "The total time took for the process is: 3.31 second(s)\n"
     ]
    }
   ],
   "source": [
    "start_time = time.perf_counter()\n",
    "for image_url in image_url_list:\n",
    "    image_bytes = requests.get(image_url).content\n",
    "    image_name = image_url.split('/')[4]\n",
    "    image_name = f'{image_name}.jpg'\n",
    "    \n",
    "    with open(image_name, 'wb') as f:\n",
    "        f.write(image_bytes)\n",
    "        print(f'{image_name} has been downloaded')\n",
    "                                 \n",
    "finish_time = time.perf_counter()\n",
    "\n",
    "print(f'The total time took for the process is: {round(finish_time - start_time, 2)} second(s)')"
   ]
  },
  {
   "cell_type": "markdown",
   "metadata": {},
   "source": [
    "# Downloading image using threading"
   ]
  },
  {
   "cell_type": "code",
   "execution_count": 4,
   "metadata": {},
   "outputs": [],
   "source": [
    "import requests\n",
    "import time\n",
    "import concurrent.futures"
   ]
  },
  {
   "cell_type": "code",
   "execution_count": 5,
   "metadata": {},
   "outputs": [
    {
     "name": "stdout",
     "output_type": "stream",
     "text": [
      "2424391.jpg has been downloaded\n",
      "2611487.jpg has been downloaded\n",
      "2544246.jpg has been downloaded\n",
      "2838647.jpg has been downloaded\n",
      "2994300.jpg has been downloaded\n",
      "The total time took for the process is: 1.62 second(s)\n"
     ]
    }
   ],
   "source": [
    "start_time = time.perf_counter()\n",
    "\n",
    "def image_download(image_url):\n",
    "    image_bytes = requests.get(image_url).content\n",
    "    image_name = image_url.split('/')[4]\n",
    "    image_name = f'{image_name}.jpg'\n",
    "    with open(image_name, 'wb') as f:\n",
    "        f.write(image_bytes)\n",
    "        print(f'{image_name} has been downloaded')\n",
    "        \n",
    "with concurrent.futures.ThreadPoolExecutor() as executor:\n",
    "    executor.map(image_download, image_url_list)\n",
    "                                 \n",
    "finish_time = time.perf_counter()\n",
    "\n",
    "print(f'The total time took for the process is: {round(finish_time - start_time, 2)} second(s)')"
   ]
  },
  {
   "cell_type": "markdown",
   "metadata": {},
   "source": [
    "I have followed the tutorial from Corey Schafer's Youtube Channel:\n",
    "Link to the tutorial video: \n",
    "https://www.youtube.com/watch?v=IEEhzQoKtQU&t=404s"
   ]
  }
 ],
 "metadata": {
  "kernelspec": {
   "display_name": "Python 3",
   "language": "python",
   "name": "python3"
  },
  "language_info": {
   "codemirror_mode": {
    "name": "ipython",
    "version": 3
   },
   "file_extension": ".py",
   "mimetype": "text/x-python",
   "name": "python",
   "nbconvert_exporter": "python",
   "pygments_lexer": "ipython3",
   "version": "3.7.3"
  }
 },
 "nbformat": 4,
 "nbformat_minor": 2
}
