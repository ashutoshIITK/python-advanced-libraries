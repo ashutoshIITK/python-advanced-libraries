{
 "cells": [
  {
   "cell_type": "code",
   "execution_count": 18,
   "metadata": {},
   "outputs": [
    {
     "name": "stdout",
     "output_type": "stream",
     "text": [
      "The program will sleep for one second...\n",
      "Done sleeping...\n",
      "The program will sleep for one second...\n",
      "Done sleeping...\n",
      "Total time taken for running sleep function is 2.0056 seconds\n"
     ]
    }
   ],
   "source": [
    "import time\n",
    "\n",
    "start_time = time.perf_counter()\n",
    "\n",
    "# The sleep function does not do anything on CPU and is just kind of waiting around\n",
    "def sleep():\n",
    "    print('The program will sleep for one second...')\n",
    "    time.sleep(1)\n",
    "    print('Done sleeping...')\n",
    "# If we run the sleep function twice, it will take two seconds. For every function call, it will take one second\n",
    "sleep()\n",
    "sleep()\n",
    "\n",
    "finish_time = time.perf_counter()\n",
    "\n",
    "print(f'Total time taken for running sleep function is {round(finish_time - start_time, 4)} seconds')"
   ]
  },
  {
   "cell_type": "markdown",
   "metadata": {},
   "source": [
    "# Let's do the same with threading"
   ]
  },
  {
   "cell_type": "code",
   "execution_count": 24,
   "metadata": {},
   "outputs": [
    {
     "name": "stdout",
     "output_type": "stream",
     "text": [
      "The program will sleep for one second...\n",
      "The program will sleep for one second...\n",
      "Done sleeping...Done sleeping...\n",
      "\n",
      "Total time taken for running sleep function is 1.0 seconds\n"
     ]
    }
   ],
   "source": [
    "import time\n",
    "import threading\n",
    "\n",
    "start_time = time.perf_counter()\n",
    "\n",
    "# The sleep function does not do anything on CPU and is just kind of waiting around\n",
    "def sleep():\n",
    "    print('The program will sleep for one second...')\n",
    "    time.sleep(1)\n",
    "    print('Done sleeping...')\n",
    "\n",
    "t1 = threading.Thread(target=sleep)\n",
    "t2 = threading.Thread(target=sleep)\n",
    "\n",
    "t1.start()\n",
    "t2.start()\n",
    "\n",
    "# We use join method to ensure that both of them finish together before running other codes below\n",
    "t1.join()\n",
    "t2.join()\n",
    "\n",
    "finish_time = time.perf_counter()\n",
    "\n",
    "print(f'Total time taken for running sleep function is {round(finish_time - start_time, 2)} seconds')"
   ]
  },
  {
   "cell_type": "markdown",
   "metadata": {},
   "source": [
    "# Let's make ten threads in loop to run the function ten times"
   ]
  },
  {
   "cell_type": "code",
   "execution_count": 28,
   "metadata": {},
   "outputs": [
    {
     "name": "stdout",
     "output_type": "stream",
     "text": [
      "The program will sleep for one second...\n",
      "The program will sleep for one second...\n",
      "The program will sleep for one second...\n",
      "The program will sleep for one second...The program will sleep for one second...\n",
      "\n",
      "The program will sleep for one second...\n",
      "The program will sleep for one second...The program will sleep for one second...\n",
      "\n",
      "The program will sleep for one second...The program will sleep for one second...\n",
      "\n",
      "Done sleeping...Done sleeping...Done sleeping...Done sleeping...\n",
      "\n",
      "Done sleeping...Done sleeping...Done sleeping...\n",
      "\n",
      "Done sleeping...\n",
      "\n",
      "\n",
      "\n",
      "Done sleeping...\n",
      "Done sleeping...\n",
      "Total time taken for running sleep function is 1.01 seconds\n"
     ]
    }
   ],
   "source": [
    "import time\n",
    "import threading\n",
    "\n",
    "start_time = time.perf_counter()\n",
    "\n",
    "# The sleep function does not do anything on CPU and is just kind of waiting around\n",
    "def sleep():\n",
    "    print('The program will sleep for one second...')\n",
    "    time.sleep(1)\n",
    "    print('Done sleeping...')\n",
    "\n",
    "threads_list = []\n",
    "for _ in range(10):\n",
    "    t = threading.Thread(target=sleep)\n",
    "    t.start()\n",
    "    threads_list.append(t)\n",
    "\n",
    "# Once we have all threads in in the list, we can run join methods to start threads together\n",
    "for thread in threads_list:\n",
    "    thread.join()\n",
    "\n",
    "finish_time = time.perf_counter()\n",
    "\n",
    "print(f'Total time taken for running sleep function is {round(finish_time - start_time, 2)} seconds')"
   ]
  },
  {
   "cell_type": "markdown",
   "metadata": {},
   "source": [
    "# Passing arguments to function when using threading"
   ]
  },
  {
   "cell_type": "code",
   "execution_count": 30,
   "metadata": {},
   "outputs": [
    {
     "name": "stdout",
     "output_type": "stream",
     "text": [
      "The program will sleep for 1.5 second (s)...\n",
      "The program will sleep for 1.5 second (s)...\n",
      "The program will sleep for 1.5 second (s)...The program will sleep for 1.5 second (s)...\n",
      "\n",
      "The program will sleep for 1.5 second (s)...\n",
      "The program will sleep for 1.5 second (s)...The program will sleep for 1.5 second (s)...\n",
      "\n",
      "The program will sleep for 1.5 second (s)...\n",
      "The program will sleep for 1.5 second (s)...The program will sleep for 1.5 second (s)...\n",
      "\n",
      "Done sleeping...\n",
      "Done sleeping...\n",
      "Done sleeping...\n",
      "Done sleeping...\n",
      "Done sleeping...\n",
      "Done sleeping...Done sleeping...\n",
      "Done sleeping...Done sleeping...\n",
      "Done sleeping...\n",
      "\n",
      "\n",
      "Total time taken for running sleep function is 1.51 seconds\n"
     ]
    }
   ],
   "source": [
    "import time\n",
    "import threading\n",
    "\n",
    "start_time = time.perf_counter()\n",
    "\n",
    "# The sleep function does not do anything on CPU and is just kind of waiting around\n",
    "def sleep(seconds):\n",
    "    print(f'The program will sleep for {seconds} second (s)...')\n",
    "    time.sleep(seconds)\n",
    "    print('Done sleeping...')\n",
    "\n",
    "threads_list = []\n",
    "for _ in range(10):\n",
    "    t = threading.Thread(target=sleep, args=[1.5])\n",
    "    t.start()\n",
    "    threads_list.append(t)\n",
    "\n",
    "# Once we have all threads in in the list, we can run join methods to start threads together\n",
    "for thread in threads_list:\n",
    "    thread.join()\n",
    "\n",
    "finish_time = time.perf_counter()\n",
    "\n",
    "print(f'Total time taken for running sleep function is {round(finish_time - start_time, 2)} seconds')"
   ]
  },
  {
   "cell_type": "markdown",
   "metadata": {},
   "source": [
    "# Using Threading Pool to create threads"
   ]
  },
  {
   "cell_type": "code",
   "execution_count": 37,
   "metadata": {},
   "outputs": [
    {
     "name": "stdout",
     "output_type": "stream",
     "text": [
      "The program will sleep for 1 second (s)...\n",
      "The program will sleep for 1 second (s)...\n",
      "Done sleeping...Done sleeping...\n",
      "Everything went well!\n",
      "\n",
      "Everything went well!\n",
      "Total time taken for running sleep function is 1.01 seconds\n"
     ]
    }
   ],
   "source": [
    "import time\n",
    "import threading\n",
    "import concurrent.futures\n",
    "\n",
    "start_time = time.perf_counter()\n",
    "\n",
    "# The sleep function does not do anything on CPU and is just kind of waiting around\n",
    "def sleep(seconds):\n",
    "    print(f'The program will sleep for {seconds} second (s)...')\n",
    "    time.sleep(seconds)\n",
    "    print('Done sleeping...')\n",
    "    \n",
    "    return 'Everything went well!'\n",
    "\n",
    "with concurrent.futures.ThreadPoolExecutor() as executor:\n",
    "    f1 = executor.submit(sleep, 1) #\"\"\"(Function, args)\"\"\"\n",
    "    f2 = executor.submit(sleep, 1)\n",
    "    \n",
    "    # To get the return value from the function, we use results\n",
    "    print(f1.result()) \n",
    "    print(f2.result())\n",
    "    \n",
    "\n",
    "finish_time = time.perf_counter()\n",
    "\n",
    "print(f'Total time taken for running sleep function is {round(finish_time - start_time, 2)} seconds')"
   ]
  },
  {
   "cell_type": "markdown",
   "metadata": {},
   "source": [
    "# Thread pool in loop using list comprehension"
   ]
  },
  {
   "cell_type": "code",
   "execution_count": 43,
   "metadata": {},
   "outputs": [
    {
     "name": "stdout",
     "output_type": "stream",
     "text": [
      "The program will sleep for 1 second (s)...\n",
      "The program will sleep for 1 second (s)...\n",
      "The program will sleep for 1 second (s)...The program will sleep for 1 second (s)...\n",
      "\n",
      "The program will sleep for 1 second (s)...\n",
      "The program will sleep for 1 second (s)...The program will sleep for 1 second (s)...\n",
      "\n",
      "The program will sleep for 1 second (s)...\n",
      "The program will sleep for 1 second (s)...The program will sleep for 1 second (s)...\n",
      "\n",
      "Done sleeping...Done sleeping...\n",
      "Done sleeping...1 (s)\n",
      "\n",
      "Done sleeping...1 (s)\n",
      "Done sleeping...Done sleeping...Done sleeping...Done sleeping...\n",
      "Done sleeping...Done sleeping...\n",
      "\n",
      "Done sleeping...\n",
      "Done sleeping...1 (s)\n",
      "\n",
      "\n",
      "Done sleeping...1 (s)\n",
      "Done sleeping...1 (s)\n",
      "Done sleeping...1 (s)\n",
      "Done sleeping...1 (s)\n",
      "\n",
      "Done sleeping...1 (s)\n",
      "Done sleeping...\n",
      "Done sleeping...1 (s)\n",
      "Done sleeping...1 (s)\n",
      "Total time taken for running sleep function is 1.01 seconds\n"
     ]
    }
   ],
   "source": [
    "import time\n",
    "import threading\n",
    "import concurrent.futures\n",
    "\n",
    "start_time = time.perf_counter()\n",
    "\n",
    "# The sleep function does not do anything on CPU and is just kind of waiting around\n",
    "def sleep(seconds):\n",
    "    print(f'The program will sleep for {seconds} second (s)...')\n",
    "    time.sleep(seconds)\n",
    "    print('Done sleeping...')\n",
    "    \n",
    "    return f'Done sleeping...{seconds} (s)'\n",
    "\n",
    "with concurrent.futures.ThreadPoolExecutor() as executor:\n",
    "    results = [executor.submit(sleep, 1) for _ in range(10)]\n",
    "    \n",
    "    for f in concurrent.futures.as_completed(results):\n",
    "        print(f.result())\n",
    "    \n",
    "\n",
    "finish_time = time.perf_counter()\n",
    "\n",
    "print(f'Total time taken for running sleep function is {round(finish_time - start_time, 2)} seconds')"
   ]
  },
  {
   "cell_type": "markdown",
   "metadata": {},
   "source": [
    "### Using arguements from a list"
   ]
  },
  {
   "cell_type": "code",
   "execution_count": 47,
   "metadata": {},
   "outputs": [
    {
     "name": "stdout",
     "output_type": "stream",
     "text": [
      "The program will sleep for 5 second (s)...\n",
      "The program will sleep for 4 second (s)...\n",
      "The program will sleep for 3 second (s)...The program will sleep for 2 second (s)...\n",
      "\n",
      "The program will sleep for 1 second (s)...\n",
      "Done sleeping...\n",
      "Done sleeping...1 (s)\n",
      "Done sleeping...\n",
      "Done sleeping...2 (s)\n",
      "Done sleeping...\n",
      "Done sleeping...3 (s)\n",
      "Done sleeping...\n",
      "Done sleeping...4 (s)\n",
      "Done sleeping...\n",
      "Done sleeping...5 (s)\n",
      "Total time taken for running sleep function is 5.01 seconds\n"
     ]
    }
   ],
   "source": [
    "import time\n",
    "import threading\n",
    "import concurrent.futures\n",
    "\n",
    "start_time = time.perf_counter()\n",
    "\n",
    "# The sleep function does not do anything on CPU and is just kind of waiting around\n",
    "def sleep(seconds):\n",
    "    print(f'The program will sleep for {seconds} second (s)...')\n",
    "    time.sleep(seconds)\n",
    "    print('Done sleeping...')\n",
    "    \n",
    "    return f'Done sleeping...{seconds} (s)'\n",
    "\n",
    "with concurrent.futures.ThreadPoolExecutor() as executor:\n",
    "    seconds = [5, 4, 3, 2, 1]\n",
    "    results = [executor.submit(sleep, sec) for sec in seconds]\n",
    "    \n",
    "    for f in concurrent.futures.as_completed(results):\n",
    "        print(f.result())\n",
    "    \n",
    "\n",
    "finish_time = time.perf_counter()\n",
    "\n",
    "print(f'Total time taken for running sleep function is {round(finish_time - start_time, 2)} seconds')"
   ]
  },
  {
   "cell_type": "markdown",
   "metadata": {},
   "source": [
    "### Using maps directly to run a list on the function"
   ]
  },
  {
   "cell_type": "code",
   "execution_count": 49,
   "metadata": {},
   "outputs": [
    {
     "name": "stdout",
     "output_type": "stream",
     "text": [
      "The program will sleep for 5 second (s)...\n",
      "The program will sleep for 4 second (s)...\n",
      "The program will sleep for 3 second (s)...The program will sleep for 2 second (s)...\n",
      "\n",
      "The program will sleep for 1 second (s)...\n",
      "Done sleeping...\n",
      "Done sleeping...\n",
      "Done sleeping...\n",
      "Done sleeping...\n",
      "Done sleeping...\n",
      "Done sleeping...5 (s)\n",
      "Done sleeping...4 (s)\n",
      "Done sleeping...3 (s)\n",
      "Done sleeping...2 (s)\n",
      "Done sleeping...1 (s)\n",
      "Total time taken for running sleep function is 5.01 seconds\n"
     ]
    }
   ],
   "source": [
    "import time\n",
    "import threading\n",
    "import concurrent.futures\n",
    "\n",
    "start_time = time.perf_counter()\n",
    "\n",
    "# The sleep function does not do anything on CPU and is just kind of waiting around\n",
    "def sleep(seconds):\n",
    "    print(f'The program will sleep for {seconds} second (s)...')\n",
    "    time.sleep(seconds)\n",
    "    print('Done sleeping...')\n",
    "    \n",
    "    return f'Done sleeping...{seconds} (s)'\n",
    "\n",
    "with concurrent.futures.ThreadPoolExecutor() as executor:\n",
    "    seconds = [5, 4, 3, 2, 1]\n",
    "    results = executor.map(sleep, seconds)    # This will finish after all process has completed\n",
    "    \n",
    "    for result in results:\n",
    "        print(result)\n",
    "\n",
    "finish_time = time.perf_counter()\n",
    "\n",
    "print(f'Total time taken for running sleep function is {round(finish_time - start_time, 2)} seconds')"
   ]
  },
  {
   "cell_type": "code",
   "execution_count": null,
   "metadata": {},
   "outputs": [],
   "source": []
  },
  {
   "cell_type": "code",
   "execution_count": null,
   "metadata": {},
   "outputs": [],
   "source": []
  },
  {
   "cell_type": "markdown",
   "metadata": {},
   "source": [
    "I have followed the tutorial from Corey Schafer's Youtube Channel:\n",
    "Link to the tutorial video: \n",
    "https://www.youtube.com/watch?v=IEEhzQoKtQU&t=404s"
   ]
  }
 ],
 "metadata": {
  "kernelspec": {
   "display_name": "Python 3",
   "language": "python",
   "name": "python3"
  },
  "language_info": {
   "codemirror_mode": {
    "name": "ipython",
    "version": 3
   },
   "file_extension": ".py",
   "mimetype": "text/x-python",
   "name": "python",
   "nbconvert_exporter": "python",
   "pygments_lexer": "ipython3",
   "version": "3.7.3"
  }
 },
 "nbformat": 4,
 "nbformat_minor": 2
}
