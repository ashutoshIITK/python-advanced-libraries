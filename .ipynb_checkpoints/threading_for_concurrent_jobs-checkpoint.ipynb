{
 "cells": [
  {
   "cell_type": "code",
   "execution_count": 18,
   "metadata": {},
   "outputs": [
    {
     "name": "stdout",
     "output_type": "stream",
     "text": [
      "The program will sleep for one second...\n",
      "Done sleeping...\n",
      "The program will sleep for one second...\n",
      "Done sleeping...\n",
      "Total time taken for running sleep function is 2.0056 seconds\n"
     ]
    }
   ],
   "source": [
    "import time\n",
    "\n",
    "start_time = time.perf_counter()\n",
    "\n",
    "# The sleep function does not do anything on CPU and is just kind of waiting around\n",
    "def sleep():\n",
    "    print('The program will sleep for one second...')\n",
    "    time.sleep(1)\n",
    "    print('Done sleeping...')\n",
    "# If we run the sleep function twice, it will take two seconds. For every function call, it will take one second\n",
    "sleep()\n",
    "sleep()\n",
    "\n",
    "finish_time = time.perf_counter()\n",
    "\n",
    "print(f'Total time taken for running sleep function is {round(finish_time - start_time, 4)} seconds')"
   ]
  },
  {
   "cell_type": "markdown",
   "metadata": {},
   "source": [
    "# Let's do the same with threading"
   ]
  },
  {
   "cell_type": "code",
   "execution_count": 24,
   "metadata": {},
   "outputs": [
    {
     "name": "stdout",
     "output_type": "stream",
     "text": [
      "The program will sleep for one second...\n",
      "The program will sleep for one second...\n",
      "Done sleeping...Done sleeping...\n",
      "\n",
      "Total time taken for running sleep function is 1.0 seconds\n"
     ]
    }
   ],
   "source": [
    "import time\n",
    "import threading\n",
    "\n",
    "start_time = time.perf_counter()\n",
    "\n",
    "# The sleep function does not do anything on CPU and is just kind of waiting around\n",
    "def sleep():\n",
    "    print('The program will sleep for one second...')\n",
    "    time.sleep(1)\n",
    "    print('Done sleeping...')\n",
    "\n",
    "t1 = threading.Thread(target=sleep)\n",
    "t2 = threading.Thread(target=sleep)\n",
    "\n",
    "t1.start()\n",
    "t2.start()\n",
    "\n",
    "# We use join method to ensure that both of them finish together before running other codes below\n",
    "t1.join()\n",
    "t2.join()\n",
    "\n",
    "finish_time = time.perf_counter()\n",
    "\n",
    "print(f'Total time taken for running sleep function is {round(finish_time - start_time, 2)} seconds')"
   ]
  },
  {
   "cell_type": "markdown",
   "metadata": {},
   "source": [
    "# Let's make ten threads in loop to run the function ten times"
   ]
  },
  {
   "cell_type": "code",
   "execution_count": 28,
   "metadata": {},
   "outputs": [
    {
     "name": "stdout",
     "output_type": "stream",
     "text": [
      "The program will sleep for one second...\n",
      "The program will sleep for one second...\n",
      "The program will sleep for one second...\n",
      "The program will sleep for one second...The program will sleep for one second...\n",
      "\n",
      "The program will sleep for one second...\n",
      "The program will sleep for one second...The program will sleep for one second...\n",
      "\n",
      "The program will sleep for one second...The program will sleep for one second...\n",
      "\n",
      "Done sleeping...Done sleeping...Done sleeping...Done sleeping...\n",
      "\n",
      "Done sleeping...Done sleeping...Done sleeping...\n",
      "\n",
      "Done sleeping...\n",
      "\n",
      "\n",
      "\n",
      "Done sleeping...\n",
      "Done sleeping...\n",
      "Total time taken for running sleep function is 1.01 seconds\n"
     ]
    }
   ],
   "source": [
    "import time\n",
    "import threading\n",
    "\n",
    "start_time = time.perf_counter()\n",
    "\n",
    "# The sleep function does not do anything on CPU and is just kind of waiting around\n",
    "def sleep():\n",
    "    print('The program will sleep for one second...')\n",
    "    time.sleep(1)\n",
    "    print('Done sleeping...')\n",
    "\n",
    "threads_list = []\n",
    "for _ in range(10):\n",
    "    t = threading.Thread(target=sleep)\n",
    "    t.start()\n",
    "    threads_list.append(t)\n",
    "\n",
    "# Once we have all threads in in the list, we can run join methods to start threads together\n",
    "for thread in threads_list:\n",
    "    thread.join()\n",
    "\n",
    "finish_time = time.perf_counter()\n",
    "\n",
    "print(f'Total time taken for running sleep function is {round(finish_time - start_time, 2)} seconds')"
   ]
  },
  {
   "cell_type": "markdown",
   "metadata": {},
   "source": [
    "# Passing arguments to function when using threading"
   ]
  },
  {
   "cell_type": "code",
   "execution_count": 30,
   "metadata": {},
   "outputs": [
    {
     "name": "stdout",
     "output_type": "stream",
     "text": [
      "The program will sleep for 1.5 second (s)...\n",
      "The program will sleep for 1.5 second (s)...\n",
      "The program will sleep for 1.5 second (s)...The program will sleep for 1.5 second (s)...\n",
      "\n",
      "The program will sleep for 1.5 second (s)...\n",
      "The program will sleep for 1.5 second (s)...The program will sleep for 1.5 second (s)...\n",
      "\n",
      "The program will sleep for 1.5 second (s)...\n",
      "The program will sleep for 1.5 second (s)...The program will sleep for 1.5 second (s)...\n",
      "\n",
      "Done sleeping...\n",
      "Done sleeping...\n",
      "Done sleeping...\n",
      "Done sleeping...\n",
      "Done sleeping...\n",
      "Done sleeping...Done sleeping...\n",
      "Done sleeping...Done sleeping...\n",
      "Done sleeping...\n",
      "\n",
      "\n",
      "Total time taken for running sleep function is 1.51 seconds\n"
     ]
    }
   ],
   "source": [
    "import time\n",
    "import threading\n",
    "\n",
    "start_time = time.perf_counter()\n",
    "\n",
    "# The sleep function does not do anything on CPU and is just kind of waiting around\n",
    "def sleep(seconds):\n",
    "    print(f'The program will sleep for {seconds} second (s)...')\n",
    "    time.sleep(seconds)\n",
    "    print('Done sleeping...')\n",
    "\n",
    "threads_list = []\n",
    "for _ in range(10):\n",
    "    t = threading.Thread(target=sleep, args=[1.5])\n",
    "    t.start()\n",
    "    threads_list.append(t)\n",
    "\n",
    "# Once we have all threads in in the list, we can run join methods to start threads together\n",
    "for thread in threads_list:\n",
    "    thread.join()\n",
    "\n",
    "finish_time = time.perf_counter()\n",
    "\n",
    "print(f'Total time taken for running sleep function is {round(finish_time - start_time, 2)} seconds')"
   ]
  },
  {
   "cell_type": "markdown",
   "metadata": {},
   "source": [
    "# Using Threading Pool to create threads"
   ]
  },
  {
   "cell_type": "code",
   "execution_count": null,
   "metadata": {},
   "outputs": [],
   "source": [
    "import time\n",
    "import threading\n",
    "import concurrent.futures\n",
    "\n",
    "start_time = time.perf_counter()\n",
    "\n",
    "# The sleep function does not do anything on CPU and is just kind of waiting around\n",
    "def sleep(seconds):\n",
    "    print(f'The program will sleep for {seconds} second (s)...')\n",
    "    time.sleep(seconds)\n",
    "    print('Done sleeping...')\n",
    "\n",
    "with concurrent.futures.ThreadPoolExecutor() as executor:\n",
    "    \n",
    "\n",
    "finish_time = time.perf_counter()\n",
    "\n",
    "print(f'Total time taken for running sleep function is {round(finish_time - start_time, 2)} seconds')"
   ]
  },
  {
   "cell_type": "code",
   "execution_count": null,
   "metadata": {},
   "outputs": [],
   "source": []
  },
  {
   "cell_type": "markdown",
   "metadata": {},
   "source": [
    "I have followed the tutorial from Corey Schafer's Youtube Channel:\n",
    "Link to the tutorial video: \n",
    "https://www.youtube.com/watch?v=IEEhzQoKtQU&t=404s"
   ]
  }
 ],
 "metadata": {
  "kernelspec": {
   "display_name": "Python 3",
   "language": "python",
   "name": "python3"
  },
  "language_info": {
   "codemirror_mode": {
    "name": "ipython",
    "version": 3
   },
   "file_extension": ".py",
   "mimetype": "text/x-python",
   "name": "python",
   "nbconvert_exporter": "python",
   "pygments_lexer": "ipython3",
   "version": "3.7.3"
  }
 },
 "nbformat": 4,
 "nbformat_minor": 2
}
